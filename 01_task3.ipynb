{
 "cells": [
  {
   "cell_type": "code",
   "execution_count": 1,
   "metadata": {},
   "outputs": [],
   "source": [
    "# default_exp model"
   ]
  },
  {
   "cell_type": "markdown",
   "metadata": {},
   "source": [
    "# FastBert for SemEval-2019 Task 3\n",
    "\n",
    "> We are applying Bert to SemEval-2019 Task 3. See this article for the challenge setting: https://www.aclweb.org/anthology/S19-2005.pdf. We use the customization work from the notebook 00_fastbert to connect Bert with fast.ai (seperated sequences approach)."
   ]
  },
  {
   "cell_type": "code",
   "execution_count": 2,
   "metadata": {},
   "outputs": [
    {
     "name": "stderr",
     "output_type": "stream",
     "text": [
      "/home/phil/Projects/venv/consult/lib/python3.7/site-packages/ekphrasis/classes/tokenizer.py:225: FutureWarning: Possible nested set at position 2190\n",
      "  self.tok = re.compile(r\"({})\".format(\"|\".join(pipeline)))\n"
     ]
    },
    {
     "name": "stdout",
     "output_type": "stream",
     "text": [
      "Reading twitter - 1grams ...\n",
      "Reading twitter - 2grams ...\n",
      "Reading twitter - 1grams ...\n"
     ]
    },
    {
     "name": "stderr",
     "output_type": "stream",
     "text": [
      "/home/phil/Projects/venv/consult/lib/python3.7/site-packages/ekphrasis/classes/exmanager.py:14: FutureWarning: Possible nested set at position 42\n",
      "  regexes = {k.lower(): re.compile(self.expressions[k]) for k, v in\n"
     ]
    }
   ],
   "source": [
    "# pytorch\n",
    "import torch\n",
    "import torch.nn as nn\n",
    "import torch.optim as optim\n",
    "from torch.utils.data import Dataset, DataLoader\n",
    "\n",
    "# transformers\n",
    "from transformers import PreTrainedModel, PreTrainedTokenizer, PretrainedConfig\n",
    "from transformers import BertForSequenceClassification, BertTokenizer, BertConfig\n",
    "\n",
    "# fast.ai\n",
    "from fastai import *\n",
    "from fastai.text import *\n",
    "from fastai.callbacks import *\n",
    "\n",
    "# fastbert\n",
    "from semeval2019_task3.fastbert import *\n",
    "\n",
    "# dataloader utility function\n",
    "from data_cleaner import process_pipeline"
   ]
  },
  {
   "cell_type": "code",
   "execution_count": 3,
   "metadata": {},
   "outputs": [],
   "source": [
    "# for the other models from huggingfaces go to\n",
    "# https://www.kaggle.com/maroberti/fastai-with-transformers-bert-roberta\n",
    "# notebook will work as well\n",
    "# just pay attention at the customized model section\n",
    "\n",
    "model_class, tokenizer_class, config_class = BertForSequenceClassification, BertTokenizer, BertConfig"
   ]
  },
  {
   "cell_type": "code",
   "execution_count": 4,
   "metadata": {},
   "outputs": [],
   "source": [
    "# get the data as dataframes \n",
    "train = pd.read_csv('./data/train.txt', delimiter='\\t', encoding='utf-8', index_col='id')\n",
    "dev = pd.read_csv('./data/dev.txt', delimiter='\\t', encoding='utf-8', index_col='id')\n",
    "test = pd.read_csv('./data/test.txt', delimiter='\\t', encoding='utf-8', index_col='id')"
   ]
  },
  {
   "cell_type": "code",
   "execution_count": 5,
   "metadata": {},
   "outputs": [
    {
     "data": {
      "text/html": [
       "<div>\n",
       "<style scoped>\n",
       "    .dataframe tbody tr th:only-of-type {\n",
       "        vertical-align: middle;\n",
       "    }\n",
       "\n",
       "    .dataframe tbody tr th {\n",
       "        vertical-align: top;\n",
       "    }\n",
       "\n",
       "    .dataframe thead th {\n",
       "        text-align: right;\n",
       "    }\n",
       "</style>\n",
       "<table border=\"1\" class=\"dataframe\">\n",
       "  <thead>\n",
       "    <tr style=\"text-align: right;\">\n",
       "      <th></th>\n",
       "      <th>turn1</th>\n",
       "      <th>turn2</th>\n",
       "      <th>turn3</th>\n",
       "      <th>label</th>\n",
       "    </tr>\n",
       "    <tr>\n",
       "      <th>id</th>\n",
       "      <th></th>\n",
       "      <th></th>\n",
       "      <th></th>\n",
       "      <th></th>\n",
       "    </tr>\n",
       "  </thead>\n",
       "  <tbody>\n",
       "    <tr>\n",
       "      <th>2460</th>\n",
       "      <td>That's good. Respect everyone. Do not use slan...</td>\n",
       "      <td>u seem to be a software engineer... did u stop...</td>\n",
       "      <td>This language I always use but the abusive wor...</td>\n",
       "      <td>angry</td>\n",
       "    </tr>\n",
       "    <tr>\n",
       "      <th>975</th>\n",
       "      <td>ok. not sorry</td>\n",
       "      <td>I am sorry though.</td>\n",
       "      <td>ok</td>\n",
       "      <td>others</td>\n",
       "    </tr>\n",
       "    <tr>\n",
       "      <th>12247</th>\n",
       "      <td>Too much waiting...😡😡😡😠</td>\n",
       "      <td>I No Angry you. 😷😷</td>\n",
       "      <td>Its so irritating...</td>\n",
       "      <td>angry</td>\n",
       "    </tr>\n",
       "    <tr>\n",
       "      <th>17553</th>\n",
       "      <td>Damn</td>\n",
       "      <td>Lol. I don't need to check.</td>\n",
       "      <td>That's so sweet of you.</td>\n",
       "      <td>others</td>\n",
       "    </tr>\n",
       "    <tr>\n",
       "      <th>2671</th>\n",
       "      <td>Not fine</td>\n",
       "      <td>why..</td>\n",
       "      <td>I proposed you bt you denied</td>\n",
       "      <td>sad</td>\n",
       "    </tr>\n",
       "  </tbody>\n",
       "</table>\n",
       "</div>"
      ],
      "text/plain": [
       "                                                   turn1  \\\n",
       "id                                                         \n",
       "2460   That's good. Respect everyone. Do not use slan...   \n",
       "975                                        ok. not sorry   \n",
       "12247                            Too much waiting...😡😡😡😠   \n",
       "17553                                               Damn   \n",
       "2671                                            Not fine   \n",
       "\n",
       "                                                   turn2  \\\n",
       "id                                                         \n",
       "2460   u seem to be a software engineer... did u stop...   \n",
       "975                                   I am sorry though.   \n",
       "12247                                 I No Angry you. 😷😷   \n",
       "17553                        Lol. I don't need to check.   \n",
       "2671                                               why..   \n",
       "\n",
       "                                                   turn3   label  \n",
       "id                                                                \n",
       "2460   This language I always use but the abusive wor...   angry  \n",
       "975                                                   ok  others  \n",
       "12247                               Its so irritating...   angry  \n",
       "17553                            That's so sweet of you.  others  \n",
       "2671                        I proposed you bt you denied     sad  "
      ]
     },
     "execution_count": 5,
     "metadata": {},
     "output_type": "execute_result"
    }
   ],
   "source": [
    "train.sample(5)"
   ]
  },
  {
   "cell_type": "code",
   "execution_count": 6,
   "metadata": {},
   "outputs": [],
   "source": [
    "# preprocessing steps for the turns\n",
    "# for details check out the process_pipeline function\n",
    "# we are not applying much preprocessing in order\n",
    "# to keep the input as raw as possible for Bert\n",
    "# just simple steps like smileys, all_caps, repeated words\n",
    "# are handled as they differ more from the source used to pre-train Bert\n",
    "# check out the original Bert paper for details\n",
    "# https://arxiv.org/pdf/1810.04805v2.pdf\n",
    "for turn in ['turn1', 'turn2', 'turn3']: \n",
    "    train[turn] = train[turn].apply(process_pipeline)\n",
    "    dev[turn] = dev[turn].apply(process_pipeline)\n",
    "    test[turn] = test[turn].apply(process_pipeline)"
   ]
  },
  {
   "cell_type": "code",
   "execution_count": 7,
   "metadata": {},
   "outputs": [],
   "source": [
    "# lookup for labels\n",
    "EMOS_DIC = {'happy': 0,\n",
    "            'angry': 1,\n",
    "            'sad': 2,\n",
    "            'others': 3}"
   ]
  },
  {
   "cell_type": "code",
   "execution_count": 8,
   "metadata": {},
   "outputs": [],
   "source": [
    "# make sure FastAi gets the order of labels for the special loss function\n",
    "train.label = train.label.apply(lambda x: EMOS_DIC[x])\n",
    "dev.label = dev.label.apply(lambda x: EMOS_DIC[x])\n",
    "test.label = test.label.apply(lambda x: EMOS_DIC[x])"
   ]
  },
  {
   "cell_type": "code",
   "execution_count": 9,
   "metadata": {},
   "outputs": [],
   "source": [
    "# export\n",
    "def seed_all(seed_value=42):\n",
    "    \"\"\"random seeding Python and torch\"\"\"\n",
    "    random.seed(seed_value) # Python\n",
    "    np.random.seed(seed_value) # cpu vars\n",
    "    torch.manual_seed(seed_value) # cpu  vars\n",
    "    \n",
    "    if torch.cuda.is_available(): \n",
    "        torch.cuda.manual_seed(seed_value)\n",
    "        torch.cuda.manual_seed_all(seed_value) # gpu vars\n",
    "        torch.backends.cudnn.deterministic = True  #needed\n",
    "        torch.backends.cudnn.benchmark = False"
   ]
  },
  {
   "cell_type": "code",
   "execution_count": 10,
   "metadata": {},
   "outputs": [],
   "source": [
    "seed_all()"
   ]
  },
  {
   "cell_type": "code",
   "execution_count": 11,
   "metadata": {},
   "outputs": [],
   "source": [
    "# setting up the processors for fast.ai TextList \n",
    "pretrained_model_name = 'bert-large-uncased-whole-word-masking'\n",
    "\n",
    "transformer_tokenizer = tokenizer_class.from_pretrained(pretrained_model_name)\n",
    "transformer_base_tokenizer = TransformersBaseTokenizer(pretrained_tokenizer = transformer_tokenizer, model_type = model_type)\n",
    "fastai_tokenizer = SeqTokenizer(tok_func = transformer_base_tokenizer, pre_rules=[], post_rules=[])\n",
    "tokenize_processor = SeqTokenizeProcessor(tokenizer=fastai_tokenizer, include_bos=False, include_eos=False)\n",
    "\n",
    "transformer_vocab =  TransformersVocab(tokenizer = transformer_tokenizer)\n",
    "numericalize_processor = NumericalizeProcessor(vocab=transformer_vocab)\n",
    "\n",
    "transformer_processor = [tokenize_processor, numericalize_processor]"
   ]
  },
  {
   "cell_type": "code",
   "execution_count": 12,
   "metadata": {},
   "outputs": [],
   "source": [
    "# padding token\n",
    "pad_idx = transformer_tokenizer.pad_token_id"
   ]
  },
  {
   "cell_type": "code",
   "execution_count": 13,
   "metadata": {},
   "outputs": [
    {
     "data": {
      "text/html": [],
      "text/plain": [
       "<IPython.core.display.HTML object>"
      ]
     },
     "metadata": {},
     "output_type": "display_data"
    },
    {
     "data": {
      "text/html": [],
      "text/plain": [
       "<IPython.core.display.HTML object>"
      ]
     },
     "metadata": {},
     "output_type": "display_data"
    }
   ],
   "source": [
    "# setting up the databunch\n",
    "databunch = (TextList.from_df(train, cols=['turn1', 'turn2', 'turn3'], processor=transformer_processor)\n",
    "             .split_none()\n",
    "             .label_from_df(cols= 'label')\n",
    "             .databunch(bs=32, pad_first=False, pad_idx=pad_idx))"
   ]
  },
  {
   "cell_type": "code",
   "execution_count": 14,
   "metadata": {},
   "outputs": [
    {
     "data": {
      "text/html": [],
      "text/plain": [
       "<IPython.core.display.HTML object>"
      ]
     },
     "metadata": {},
     "output_type": "display_data"
    },
    {
     "data": {
      "text/html": [],
      "text/plain": [
       "<IPython.core.display.HTML object>"
      ]
     },
     "metadata": {},
     "output_type": "display_data"
    }
   ],
   "source": [
    "# batchsizes have to be devidors of the length of the data \n",
    "# with TextList objects the last batch would be cut if not\n",
    "# it would cut the last not size fitting batch out completly\n",
    "# to validate on new data we have to create a dataloader\n",
    "# most easiest way is to use the datablock api from FastAi\n",
    "\n",
    "databunch.valid_dl = (TextList.from_df(dev, cols=['turn1', 'turn2', 'turn3'], processor=transformer_processor)\n",
    "                      .split_none()\n",
    "                      .label_from_df(cols= 'label')\n",
    "                      .databunch(bs=5, pad_first=False, pad_idx=pad_idx)).train_dl"
   ]
  },
  {
   "cell_type": "code",
   "execution_count": 15,
   "metadata": {},
   "outputs": [
    {
     "data": {
      "text/html": [],
      "text/plain": [
       "<IPython.core.display.HTML object>"
      ]
     },
     "metadata": {},
     "output_type": "display_data"
    },
    {
     "data": {
      "text/html": [],
      "text/plain": [
       "<IPython.core.display.HTML object>"
      ]
     },
     "metadata": {},
     "output_type": "display_data"
    }
   ],
   "source": [
    "test_dl = (TextList.from_df(test, cols=['turn1', 'turn2', 'turn3'], processor=transformer_processor)\n",
    "             .split_none()\n",
    "             .label_from_df(cols= 'label')\n",
    "             .databunch(bs=7, pad_first=False, pad_idx=pad_idx)).train_dl"
   ]
  },
  {
   "cell_type": "markdown",
   "metadata": {},
   "source": [
    "## Model setup"
   ]
  },
  {
   "cell_type": "code",
   "execution_count": 16,
   "metadata": {},
   "outputs": [
    {
     "name": "stdout",
     "output_type": "stream",
     "text": [
      "{\n",
      "  \"attention_probs_dropout_prob\": 0.1,\n",
      "  \"finetuning_task\": null,\n",
      "  \"hidden_act\": \"gelu\",\n",
      "  \"hidden_dropout_prob\": 0.1,\n",
      "  \"hidden_size\": 1024,\n",
      "  \"initializer_range\": 0.02,\n",
      "  \"intermediate_size\": 4096,\n",
      "  \"is_decoder\": false,\n",
      "  \"layer_norm_eps\": 1e-12,\n",
      "  \"max_position_embeddings\": 512,\n",
      "  \"num_attention_heads\": 16,\n",
      "  \"num_hidden_layers\": 24,\n",
      "  \"num_labels\": 4,\n",
      "  \"output_attentions\": false,\n",
      "  \"output_hidden_states\": false,\n",
      "  \"output_past\": true,\n",
      "  \"pruned_heads\": {},\n",
      "  \"torchscript\": false,\n",
      "  \"type_vocab_size\": 2,\n",
      "  \"use_bfloat16\": true,\n",
      "  \"vocab_size\": 30522\n",
      "}\n",
      "\n"
     ]
    }
   ],
   "source": [
    "config = config_class.from_pretrained(pretrained_model_name)\n",
    "config.num_labels = 4\n",
    "config.use_bfloat16 = True # False\n",
    "print(config)"
   ]
  },
  {
   "cell_type": "code",
   "execution_count": 17,
   "metadata": {},
   "outputs": [],
   "source": [
    "# create the customized model from the pretrained Bert weights\n",
    "transformer_model = model_class.from_pretrained(pretrained_model_name, config = config)\n",
    "custom_transformer_model = CustomTransformerModel(transformer_model = transformer_model)"
   ]
  },
  {
   "cell_type": "markdown",
   "metadata": {},
   "source": [
    "## Loss and Metrices\n",
    "\n",
    "As one can see in the article of the challenge we have a special requirement for the metrices. Also as the data is imbalanced it would be a good idea to reweight the loss function."
   ]
  },
  {
   "cell_type": "code",
   "execution_count": 18,
   "metadata": {},
   "outputs": [],
   "source": [
    "# the weights result from the balances of the train dataset\n",
    "weight_list = [0.3198680179, 0.246494733, 0.2484349259, 1.74527696]\n",
    "weight_label = torch.Tensor(weight_list).cuda()\n",
    "loss_criterion = nn.CrossEntropyLoss(reduction='none')"
   ]
  },
  {
   "cell_type": "code",
   "execution_count": 19,
   "metadata": {},
   "outputs": [],
   "source": [
    "# export\n",
    "def loss_reweight(pred, y_b):\n",
    "    \"\"\"cross entropy loss with reweighting\"\"\"\n",
    "    loss_label = loss_criterion(pred, y_b.view(-1).cuda()).cuda()\n",
    "    loss_label = torch.matmul(torch.gather(weight_label, 0, y_b.view(-1).cuda()), loss_label) / \\\n",
    "                 y_b.view(-1).shape[0]\n",
    "\n",
    "    return loss_label"
   ]
  },
  {
   "cell_type": "markdown",
   "metadata": {},
   "source": [
    "Note that we are trying to maximize the micro-averaged F1 score for the three emotion classes - Happy, Sad and Angry. To be precise, the defined metric goes as follows:\n",
    "\n",
    "\\begin{equation*}\n",
    "P_{\\mu } = \\frac{\\sum T P_{i}}{\\sum (T P_{i} + F P_{i})} \\forall i \\in \\{ Happy, Sad, Angry \\}\n",
    "\\end{equation*}\n",
    "\n",
    "\\begin{equation*}\n",
    "R_{\\mu } = \\frac{\\sum T P_{i}}{\\sum (T P_{i} + F N_{i})} \\forall i \\in \\{ Happy, Sad, Angry \\}\n",
    "\\end{equation*}\n",
    "\n",
    "With $T P_{i}$, $F P_{i}$, $F N_{i}$ are the true postives, false positives and false negatives of class $i$.\n",
    "\n",
    "\n"
   ]
  },
  {
   "cell_type": "markdown",
   "metadata": {},
   "source": [
    "Hence we will write $F 1_{\\mu}$ as a customized metric."
   ]
  },
  {
   "cell_type": "code",
   "execution_count": 20,
   "metadata": {},
   "outputs": [],
   "source": [
    "# export\n",
    "def metrics(logits, labels):\n",
    "    cm = torch.zeros((4,4))\n",
    "    preds = torch.argmax(logits, dim=1)\n",
    "    acc = (labels == preds).float().mean()\n",
    "    for label, pred in zip(labels.view(-1), preds.view(-1)):\n",
    "        cm[label.long(), pred.long()] += 1\n",
    "        \n",
    "    tp = cm.diagonal()[:3].sum()\n",
    "    fp = cm[:, :3].sum() - tp\n",
    "    fn = cm[:3, :].sum() - tp \n",
    "    return {'val_acc': acc, 'tp': tp, 'fp': fp, 'fn': fn}\n",
    "\n",
    "def f1_score(tp, fp, fn):\n",
    "    prec_rec_f1 = {}\n",
    "    prec_rec_f1['precision'] = tp / (tp + fp)\n",
    "    prec_rec_f1['recall'] = tp / (tp + fn)\n",
    "    prec_rec_f1['f1_score'] = 2 * (prec_rec_f1['precision'] * prec_rec_f1['recall']) / (prec_rec_f1['precision'] + prec_rec_f1['recall'])\n",
    "    return prec_rec_f1"
   ]
  },
  {
   "cell_type": "markdown",
   "metadata": {},
   "source": [
    "Credits for the metrics: https://github.com/juliusberner/emotion_transformer/blob/master/01_model.ipynb"
   ]
  },
  {
   "cell_type": "code",
   "execution_count": 21,
   "metadata": {},
   "outputs": [],
   "source": [
    "# export\n",
    "class F1Micro(Callback):\n",
    "    \"\"\"custom loss for fast.ai\"\"\"\n",
    "    def on_epoch_begin(self, **kwargs):\n",
    "        self.out, self.target = torch.empty(0), torch.empty(0)\n",
    "    \n",
    "    def on_batch_end(self, last_output, last_target, **kwargs):\n",
    "        self.out = torch.cat((self.out.type(last_output.cpu().type()), last_output.cpu()))\n",
    "        self.target = torch.cat((self.target.type(last_target.cpu().type()), last_target.cpu()))\n",
    "    \n",
    "    def on_epoch_end(self, last_metrics, **kwargs):\n",
    "        assert self.out.shape[0] == self.target.shape[0]\n",
    "        metric = metrics(self.out, self.target)\n",
    "        f1_dict = f1_score(metric['tp'], metric['fp'], metric['fn'])\n",
    "        return add_metrics(last_metrics, [f1_dict['f1_score'].numpy()] )"
   ]
  },
  {
   "cell_type": "markdown",
   "metadata": {},
   "source": [
    "We also thought about mixup in the learner as data augumentation. For now we don't know how to apply it here as we have word level embeddings with three different turns what makes it from a logical standpoint in language not really usefull. We could shift the embeddings by a mean of the turn word embeddings of the shuffled version batch but that might lead also to no better results. So something one could experiment with :)"
   ]
  },
  {
   "cell_type": "code",
   "execution_count": 22,
   "metadata": {},
   "outputs": [],
   "source": [
    "from transformers import AdamW\n",
    "from functools import partial\n",
    "\n",
    "CustomAdamW = partial(AdamW, correct_bias=False)\n",
    "\n",
    "learner = Learner(databunch, \n",
    "                  custom_transformer_model, \n",
    "                  opt_func = CustomAdamW, \n",
    "                  metrics=[accuracy, F1Micro()],\n",
    "                  loss_func=loss_reweight,\n",
    "                  callback_fns=partial(GradientClipping, clip=0.888))\n",
    "\n",
    "# Show graph of learner stats and metrics after each epoch.\n",
    "learner.callbacks.append(ShowGraph(learner))\n",
    "# learner.callbacks.append(SaveModelCallback(learner, every='improvement', monitor='valid_loss', name='best_model'))\n",
    "\n",
    "# Put learn in FP16 precision mode\n",
    "learner = learner.to_fp16() # delete the line if fp16 is not wanted"
   ]
  },
  {
   "cell_type": "code",
   "execution_count": 23,
   "metadata": {},
   "outputs": [
    {
     "data": {
      "text/plain": [
       "CustomTransformerModel\n",
       "======================================================================\n",
       "Layer (type)         Output Shape         Param #    Trainable \n",
       "======================================================================\n",
       "Embedding            [64, 1024]           31,254,528 True      \n",
       "______________________________________________________________________\n",
       "Embedding            [64, 1024]           524,288    True      \n",
       "______________________________________________________________________\n",
       "Embedding            [64, 1024]           2,048      True      \n",
       "______________________________________________________________________\n",
       "LayerNorm            [64, 1024]           2,048      True      \n",
       "______________________________________________________________________\n",
       "Dropout              [64, 1024]           0          False     \n",
       "______________________________________________________________________\n",
       "Linear               [64, 1024]           1,049,600  True      \n",
       "______________________________________________________________________\n",
       "Linear               [64, 1024]           1,049,600  True      \n",
       "______________________________________________________________________\n",
       "Linear               [64, 1024]           1,049,600  True      \n",
       "______________________________________________________________________\n",
       "Dropout              [16, 64, 64]         0          False     \n",
       "______________________________________________________________________\n",
       "Linear               [64, 1024]           1,049,600  True      \n",
       "______________________________________________________________________\n",
       "LayerNorm            [64, 1024]           2,048      True      \n",
       "______________________________________________________________________\n",
       "Dropout              [64, 1024]           0          False     \n",
       "______________________________________________________________________\n",
       "Linear               [64, 4096]           4,198,400  True      \n",
       "______________________________________________________________________\n",
       "Linear               [64, 1024]           4,195,328  True      \n",
       "______________________________________________________________________\n",
       "LayerNorm            [64, 1024]           2,048      True      \n",
       "______________________________________________________________________\n",
       "Dropout              [64, 1024]           0          False     \n",
       "______________________________________________________________________\n",
       "Linear               [64, 1024]           1,049,600  True      \n",
       "______________________________________________________________________\n",
       "Linear               [64, 1024]           1,049,600  True      \n",
       "______________________________________________________________________\n",
       "Linear               [64, 1024]           1,049,600  True      \n",
       "______________________________________________________________________\n",
       "Dropout              [16, 64, 64]         0          False     \n",
       "______________________________________________________________________\n",
       "Linear               [64, 1024]           1,049,600  True      \n",
       "______________________________________________________________________\n",
       "LayerNorm            [64, 1024]           2,048      True      \n",
       "______________________________________________________________________\n",
       "Dropout              [64, 1024]           0          False     \n",
       "______________________________________________________________________\n",
       "Linear               [64, 4096]           4,198,400  True      \n",
       "______________________________________________________________________\n",
       "Linear               [64, 1024]           4,195,328  True      \n",
       "______________________________________________________________________\n",
       "LayerNorm            [64, 1024]           2,048      True      \n",
       "______________________________________________________________________\n",
       "Dropout              [64, 1024]           0          False     \n",
       "______________________________________________________________________\n",
       "Linear               [64, 1024]           1,049,600  True      \n",
       "______________________________________________________________________\n",
       "Linear               [64, 1024]           1,049,600  True      \n",
       "______________________________________________________________________\n",
       "Linear               [64, 1024]           1,049,600  True      \n",
       "______________________________________________________________________\n",
       "Dropout              [16, 64, 64]         0          False     \n",
       "______________________________________________________________________\n",
       "Linear               [64, 1024]           1,049,600  True      \n",
       "______________________________________________________________________\n",
       "LayerNorm            [64, 1024]           2,048      True      \n",
       "______________________________________________________________________\n",
       "Dropout              [64, 1024]           0          False     \n",
       "______________________________________________________________________\n",
       "Linear               [64, 4096]           4,198,400  True      \n",
       "______________________________________________________________________\n",
       "Linear               [64, 1024]           4,195,328  True      \n",
       "______________________________________________________________________\n",
       "LayerNorm            [64, 1024]           2,048      True      \n",
       "______________________________________________________________________\n",
       "Dropout              [64, 1024]           0          False     \n",
       "______________________________________________________________________\n",
       "Linear               [64, 1024]           1,049,600  True      \n",
       "______________________________________________________________________\n",
       "Linear               [64, 1024]           1,049,600  True      \n",
       "______________________________________________________________________\n",
       "Linear               [64, 1024]           1,049,600  True      \n",
       "______________________________________________________________________\n",
       "Dropout              [16, 64, 64]         0          False     \n",
       "______________________________________________________________________\n",
       "Linear               [64, 1024]           1,049,600  True      \n",
       "______________________________________________________________________\n",
       "LayerNorm            [64, 1024]           2,048      True      \n",
       "______________________________________________________________________\n",
       "Dropout              [64, 1024]           0          False     \n",
       "______________________________________________________________________\n",
       "Linear               [64, 4096]           4,198,400  True      \n",
       "______________________________________________________________________\n",
       "Linear               [64, 1024]           4,195,328  True      \n",
       "______________________________________________________________________\n",
       "LayerNorm            [64, 1024]           2,048      True      \n",
       "______________________________________________________________________\n",
       "Dropout              [64, 1024]           0          False     \n",
       "______________________________________________________________________\n",
       "Linear               [64, 1024]           1,049,600  True      \n",
       "______________________________________________________________________\n",
       "Linear               [64, 1024]           1,049,600  True      \n",
       "______________________________________________________________________\n",
       "Linear               [64, 1024]           1,049,600  True      \n",
       "______________________________________________________________________\n",
       "Dropout              [16, 64, 64]         0          False     \n",
       "______________________________________________________________________\n",
       "Linear               [64, 1024]           1,049,600  True      \n",
       "______________________________________________________________________\n",
       "LayerNorm            [64, 1024]           2,048      True      \n",
       "______________________________________________________________________\n",
       "Dropout              [64, 1024]           0          False     \n",
       "______________________________________________________________________\n",
       "Linear               [64, 4096]           4,198,400  True      \n",
       "______________________________________________________________________\n",
       "Linear               [64, 1024]           4,195,328  True      \n",
       "______________________________________________________________________\n",
       "LayerNorm            [64, 1024]           2,048      True      \n",
       "______________________________________________________________________\n",
       "Dropout              [64, 1024]           0          False     \n",
       "______________________________________________________________________\n",
       "Linear               [64, 1024]           1,049,600  True      \n",
       "______________________________________________________________________\n",
       "Linear               [64, 1024]           1,049,600  True      \n",
       "______________________________________________________________________\n",
       "Linear               [64, 1024]           1,049,600  True      \n",
       "______________________________________________________________________\n",
       "Dropout              [16, 64, 64]         0          False     \n",
       "______________________________________________________________________\n",
       "Linear               [64, 1024]           1,049,600  True      \n",
       "______________________________________________________________________\n",
       "LayerNorm            [64, 1024]           2,048      True      \n",
       "______________________________________________________________________\n",
       "Dropout              [64, 1024]           0          False     \n",
       "______________________________________________________________________\n",
       "Linear               [64, 4096]           4,198,400  True      \n",
       "______________________________________________________________________\n",
       "Linear               [64, 1024]           4,195,328  True      \n",
       "______________________________________________________________________\n",
       "LayerNorm            [64, 1024]           2,048      True      \n",
       "______________________________________________________________________\n",
       "Dropout              [64, 1024]           0          False     \n",
       "______________________________________________________________________\n",
       "Linear               [64, 1024]           1,049,600  True      \n",
       "______________________________________________________________________\n",
       "Linear               [64, 1024]           1,049,600  True      \n",
       "______________________________________________________________________\n",
       "Linear               [64, 1024]           1,049,600  True      \n",
       "______________________________________________________________________\n",
       "Dropout              [16, 64, 64]         0          False     \n",
       "______________________________________________________________________\n",
       "Linear               [64, 1024]           1,049,600  True      \n",
       "______________________________________________________________________\n",
       "LayerNorm            [64, 1024]           2,048      True      \n",
       "______________________________________________________________________\n",
       "Dropout              [64, 1024]           0          False     \n",
       "______________________________________________________________________\n",
       "Linear               [64, 4096]           4,198,400  True      \n",
       "______________________________________________________________________\n",
       "Linear               [64, 1024]           4,195,328  True      \n",
       "______________________________________________________________________\n",
       "LayerNorm            [64, 1024]           2,048      True      \n",
       "______________________________________________________________________\n",
       "Dropout              [64, 1024]           0          False     \n",
       "______________________________________________________________________\n",
       "Linear               [64, 1024]           1,049,600  True      \n",
       "______________________________________________________________________\n",
       "Linear               [64, 1024]           1,049,600  True      \n",
       "______________________________________________________________________\n",
       "Linear               [64, 1024]           1,049,600  True      \n",
       "______________________________________________________________________\n",
       "Dropout              [16, 64, 64]         0          False     \n",
       "______________________________________________________________________\n",
       "Linear               [64, 1024]           1,049,600  True      \n",
       "______________________________________________________________________\n",
       "LayerNorm            [64, 1024]           2,048      True      \n",
       "______________________________________________________________________\n",
       "Dropout              [64, 1024]           0          False     \n",
       "______________________________________________________________________\n",
       "Linear               [64, 4096]           4,198,400  True      \n",
       "______________________________________________________________________\n",
       "Linear               [64, 1024]           4,195,328  True      \n",
       "______________________________________________________________________\n",
       "LayerNorm            [64, 1024]           2,048      True      \n",
       "______________________________________________________________________\n",
       "Dropout              [64, 1024]           0          False     \n",
       "______________________________________________________________________\n",
       "Linear               [64, 1024]           1,049,600  True      \n",
       "______________________________________________________________________\n",
       "Linear               [64, 1024]           1,049,600  True      \n",
       "______________________________________________________________________\n",
       "Linear               [64, 1024]           1,049,600  True      \n",
       "______________________________________________________________________\n",
       "Dropout              [16, 64, 64]         0          False     \n",
       "______________________________________________________________________\n",
       "Linear               [64, 1024]           1,049,600  True      \n",
       "______________________________________________________________________\n",
       "LayerNorm            [64, 1024]           2,048      True      \n",
       "______________________________________________________________________\n",
       "Dropout              [64, 1024]           0          False     \n",
       "______________________________________________________________________\n",
       "Linear               [64, 4096]           4,198,400  True      \n",
       "______________________________________________________________________\n",
       "Linear               [64, 1024]           4,195,328  True      \n",
       "______________________________________________________________________\n",
       "LayerNorm            [64, 1024]           2,048      True      \n",
       "______________________________________________________________________\n",
       "Dropout              [64, 1024]           0          False     \n",
       "______________________________________________________________________\n",
       "Linear               [64, 1024]           1,049,600  True      \n",
       "______________________________________________________________________\n",
       "Linear               [64, 1024]           1,049,600  True      \n",
       "______________________________________________________________________\n",
       "Linear               [64, 1024]           1,049,600  True      \n",
       "______________________________________________________________________\n",
       "Dropout              [16, 64, 64]         0          False     \n",
       "______________________________________________________________________\n",
       "Linear               [64, 1024]           1,049,600  True      \n",
       "______________________________________________________________________\n",
       "LayerNorm            [64, 1024]           2,048      True      \n",
       "______________________________________________________________________\n",
       "Dropout              [64, 1024]           0          False     \n",
       "______________________________________________________________________\n",
       "Linear               [64, 4096]           4,198,400  True      \n",
       "______________________________________________________________________\n",
       "Linear               [64, 1024]           4,195,328  True      \n",
       "______________________________________________________________________\n",
       "LayerNorm            [64, 1024]           2,048      True      \n",
       "______________________________________________________________________\n",
       "Dropout              [64, 1024]           0          False     \n",
       "______________________________________________________________________\n",
       "Linear               [64, 1024]           1,049,600  True      \n",
       "______________________________________________________________________\n",
       "Linear               [64, 1024]           1,049,600  True      \n",
       "______________________________________________________________________\n",
       "Linear               [64, 1024]           1,049,600  True      \n",
       "______________________________________________________________________\n",
       "Dropout              [16, 64, 64]         0          False     \n",
       "______________________________________________________________________\n",
       "Linear               [64, 1024]           1,049,600  True      \n",
       "______________________________________________________________________\n",
       "LayerNorm            [64, 1024]           2,048      True      \n",
       "______________________________________________________________________\n",
       "Dropout              [64, 1024]           0          False     \n",
       "______________________________________________________________________\n",
       "Linear               [64, 4096]           4,198,400  True      \n",
       "______________________________________________________________________\n",
       "Linear               [64, 1024]           4,195,328  True      \n",
       "______________________________________________________________________\n",
       "LayerNorm            [64, 1024]           2,048      True      \n",
       "______________________________________________________________________\n",
       "Dropout              [64, 1024]           0          False     \n",
       "______________________________________________________________________\n",
       "Linear               [64, 1024]           1,049,600  True      \n",
       "______________________________________________________________________\n",
       "Linear               [64, 1024]           1,049,600  True      \n",
       "______________________________________________________________________\n",
       "Linear               [64, 1024]           1,049,600  True      \n",
       "______________________________________________________________________\n",
       "Dropout              [16, 64, 64]         0          False     \n",
       "______________________________________________________________________\n",
       "Linear               [64, 1024]           1,049,600  True      \n",
       "______________________________________________________________________\n",
       "LayerNorm            [64, 1024]           2,048      True      \n",
       "______________________________________________________________________\n",
       "Dropout              [64, 1024]           0          False     \n",
       "______________________________________________________________________\n",
       "Linear               [64, 4096]           4,198,400  True      \n",
       "______________________________________________________________________\n",
       "Linear               [64, 1024]           4,195,328  True      \n",
       "______________________________________________________________________\n",
       "LayerNorm            [64, 1024]           2,048      True      \n",
       "______________________________________________________________________\n",
       "Dropout              [64, 1024]           0          False     \n",
       "______________________________________________________________________\n",
       "Linear               [64, 1024]           1,049,600  True      \n",
       "______________________________________________________________________\n",
       "Linear               [64, 1024]           1,049,600  True      \n",
       "______________________________________________________________________\n",
       "Linear               [64, 1024]           1,049,600  True      \n",
       "______________________________________________________________________\n",
       "Dropout              [16, 64, 64]         0          False     \n",
       "______________________________________________________________________\n",
       "Linear               [64, 1024]           1,049,600  True      \n",
       "______________________________________________________________________\n",
       "LayerNorm            [64, 1024]           2,048      True      \n",
       "______________________________________________________________________\n",
       "Dropout              [64, 1024]           0          False     \n",
       "______________________________________________________________________\n",
       "Linear               [64, 4096]           4,198,400  True      \n",
       "______________________________________________________________________\n",
       "Linear               [64, 1024]           4,195,328  True      \n",
       "______________________________________________________________________\n",
       "LayerNorm            [64, 1024]           2,048      True      \n",
       "______________________________________________________________________\n",
       "Dropout              [64, 1024]           0          False     \n",
       "______________________________________________________________________\n",
       "Linear               [64, 1024]           1,049,600  True      \n",
       "______________________________________________________________________\n",
       "Linear               [64, 1024]           1,049,600  True      \n",
       "______________________________________________________________________\n",
       "Linear               [64, 1024]           1,049,600  True      \n",
       "______________________________________________________________________\n",
       "Dropout              [16, 64, 64]         0          False     \n",
       "______________________________________________________________________\n",
       "Linear               [64, 1024]           1,049,600  True      \n",
       "______________________________________________________________________\n",
       "LayerNorm            [64, 1024]           2,048      True      \n",
       "______________________________________________________________________\n",
       "Dropout              [64, 1024]           0          False     \n",
       "______________________________________________________________________\n",
       "Linear               [64, 4096]           4,198,400  True      \n",
       "______________________________________________________________________\n",
       "Linear               [64, 1024]           4,195,328  True      \n",
       "______________________________________________________________________\n",
       "LayerNorm            [64, 1024]           2,048      True      \n",
       "______________________________________________________________________\n",
       "Dropout              [64, 1024]           0          False     \n",
       "______________________________________________________________________\n",
       "Linear               [64, 1024]           1,049,600  True      \n",
       "______________________________________________________________________\n",
       "Linear               [64, 1024]           1,049,600  True      \n",
       "______________________________________________________________________\n",
       "Linear               [64, 1024]           1,049,600  True      \n",
       "______________________________________________________________________\n",
       "Dropout              [16, 64, 64]         0          False     \n",
       "______________________________________________________________________\n",
       "Linear               [64, 1024]           1,049,600  True      \n",
       "______________________________________________________________________\n",
       "LayerNorm            [64, 1024]           2,048      True      \n",
       "______________________________________________________________________\n",
       "Dropout              [64, 1024]           0          False     \n",
       "______________________________________________________________________\n",
       "Linear               [64, 4096]           4,198,400  True      \n",
       "______________________________________________________________________\n",
       "Linear               [64, 1024]           4,195,328  True      \n",
       "______________________________________________________________________\n",
       "LayerNorm            [64, 1024]           2,048      True      \n",
       "______________________________________________________________________\n",
       "Dropout              [64, 1024]           0          False     \n",
       "______________________________________________________________________\n",
       "Linear               [64, 1024]           1,049,600  True      \n",
       "______________________________________________________________________\n",
       "Linear               [64, 1024]           1,049,600  True      \n",
       "______________________________________________________________________\n",
       "Linear               [64, 1024]           1,049,600  True      \n",
       "______________________________________________________________________\n",
       "Dropout              [16, 64, 64]         0          False     \n",
       "______________________________________________________________________\n",
       "Linear               [64, 1024]           1,049,600  True      \n",
       "______________________________________________________________________\n",
       "LayerNorm            [64, 1024]           2,048      True      \n",
       "______________________________________________________________________\n",
       "Dropout              [64, 1024]           0          False     \n",
       "______________________________________________________________________\n",
       "Linear               [64, 4096]           4,198,400  True      \n",
       "______________________________________________________________________\n",
       "Linear               [64, 1024]           4,195,328  True      \n",
       "______________________________________________________________________\n",
       "LayerNorm            [64, 1024]           2,048      True      \n",
       "______________________________________________________________________\n",
       "Dropout              [64, 1024]           0          False     \n",
       "______________________________________________________________________\n",
       "Linear               [64, 1024]           1,049,600  True      \n",
       "______________________________________________________________________\n",
       "Linear               [64, 1024]           1,049,600  True      \n",
       "______________________________________________________________________\n",
       "Linear               [64, 1024]           1,049,600  True      \n",
       "______________________________________________________________________\n",
       "Dropout              [16, 64, 64]         0          False     \n",
       "______________________________________________________________________\n",
       "Linear               [64, 1024]           1,049,600  True      \n",
       "______________________________________________________________________\n",
       "LayerNorm            [64, 1024]           2,048      True      \n",
       "______________________________________________________________________\n",
       "Dropout              [64, 1024]           0          False     \n",
       "______________________________________________________________________\n",
       "Linear               [64, 4096]           4,198,400  True      \n",
       "______________________________________________________________________\n",
       "Linear               [64, 1024]           4,195,328  True      \n",
       "______________________________________________________________________\n",
       "LayerNorm            [64, 1024]           2,048      True      \n",
       "______________________________________________________________________\n",
       "Dropout              [64, 1024]           0          False     \n",
       "______________________________________________________________________\n",
       "Linear               [64, 1024]           1,049,600  True      \n",
       "______________________________________________________________________\n",
       "Linear               [64, 1024]           1,049,600  True      \n",
       "______________________________________________________________________\n",
       "Linear               [64, 1024]           1,049,600  True      \n",
       "______________________________________________________________________\n",
       "Dropout              [16, 64, 64]         0          False     \n",
       "______________________________________________________________________\n",
       "Linear               [64, 1024]           1,049,600  True      \n",
       "______________________________________________________________________\n",
       "LayerNorm            [64, 1024]           2,048      True      \n",
       "______________________________________________________________________\n",
       "Dropout              [64, 1024]           0          False     \n",
       "______________________________________________________________________\n",
       "Linear               [64, 4096]           4,198,400  True      \n",
       "______________________________________________________________________\n",
       "Linear               [64, 1024]           4,195,328  True      \n",
       "______________________________________________________________________\n",
       "LayerNorm            [64, 1024]           2,048      True      \n",
       "______________________________________________________________________\n",
       "Dropout              [64, 1024]           0          False     \n",
       "______________________________________________________________________\n",
       "Linear               [64, 1024]           1,049,600  True      \n",
       "______________________________________________________________________\n",
       "Linear               [64, 1024]           1,049,600  True      \n",
       "______________________________________________________________________\n",
       "Linear               [64, 1024]           1,049,600  True      \n",
       "______________________________________________________________________\n",
       "Dropout              [16, 64, 64]         0          False     \n",
       "______________________________________________________________________\n",
       "Linear               [64, 1024]           1,049,600  True      \n",
       "______________________________________________________________________\n",
       "LayerNorm            [64, 1024]           2,048      True      \n",
       "______________________________________________________________________\n",
       "Dropout              [64, 1024]           0          False     \n",
       "______________________________________________________________________\n",
       "Linear               [64, 4096]           4,198,400  True      \n",
       "______________________________________________________________________\n",
       "Linear               [64, 1024]           4,195,328  True      \n",
       "______________________________________________________________________\n",
       "LayerNorm            [64, 1024]           2,048      True      \n",
       "______________________________________________________________________\n",
       "Dropout              [64, 1024]           0          False     \n",
       "______________________________________________________________________\n",
       "Linear               [64, 1024]           1,049,600  True      \n",
       "______________________________________________________________________\n",
       "Linear               [64, 1024]           1,049,600  True      \n",
       "______________________________________________________________________\n",
       "Linear               [64, 1024]           1,049,600  True      \n",
       "______________________________________________________________________\n",
       "Dropout              [16, 64, 64]         0          False     \n",
       "______________________________________________________________________\n",
       "Linear               [64, 1024]           1,049,600  True      \n",
       "______________________________________________________________________\n",
       "LayerNorm            [64, 1024]           2,048      True      \n",
       "______________________________________________________________________\n",
       "Dropout              [64, 1024]           0          False     \n",
       "______________________________________________________________________\n",
       "Linear               [64, 4096]           4,198,400  True      \n",
       "______________________________________________________________________\n",
       "Linear               [64, 1024]           4,195,328  True      \n",
       "______________________________________________________________________\n",
       "LayerNorm            [64, 1024]           2,048      True      \n",
       "______________________________________________________________________\n",
       "Dropout              [64, 1024]           0          False     \n",
       "______________________________________________________________________\n",
       "Linear               [64, 1024]           1,049,600  True      \n",
       "______________________________________________________________________\n",
       "Linear               [64, 1024]           1,049,600  True      \n",
       "______________________________________________________________________\n",
       "Linear               [64, 1024]           1,049,600  True      \n",
       "______________________________________________________________________\n",
       "Dropout              [16, 64, 64]         0          False     \n",
       "______________________________________________________________________\n",
       "Linear               [64, 1024]           1,049,600  True      \n",
       "______________________________________________________________________\n",
       "LayerNorm            [64, 1024]           2,048      True      \n",
       "______________________________________________________________________\n",
       "Dropout              [64, 1024]           0          False     \n",
       "______________________________________________________________________\n",
       "Linear               [64, 4096]           4,198,400  True      \n",
       "______________________________________________________________________\n",
       "Linear               [64, 1024]           4,195,328  True      \n",
       "______________________________________________________________________\n",
       "LayerNorm            [64, 1024]           2,048      True      \n",
       "______________________________________________________________________\n",
       "Dropout              [64, 1024]           0          False     \n",
       "______________________________________________________________________\n",
       "Linear               [64, 1024]           1,049,600  True      \n",
       "______________________________________________________________________\n",
       "Linear               [64, 1024]           1,049,600  True      \n",
       "______________________________________________________________________\n",
       "Linear               [64, 1024]           1,049,600  True      \n",
       "______________________________________________________________________\n",
       "Dropout              [16, 64, 64]         0          False     \n",
       "______________________________________________________________________\n",
       "Linear               [64, 1024]           1,049,600  True      \n",
       "______________________________________________________________________\n",
       "LayerNorm            [64, 1024]           2,048      True      \n",
       "______________________________________________________________________\n",
       "Dropout              [64, 1024]           0          False     \n",
       "______________________________________________________________________\n",
       "Linear               [64, 4096]           4,198,400  True      \n",
       "______________________________________________________________________\n",
       "Linear               [64, 1024]           4,195,328  True      \n",
       "______________________________________________________________________\n",
       "LayerNorm            [64, 1024]           2,048      True      \n",
       "______________________________________________________________________\n",
       "Dropout              [64, 1024]           0          False     \n",
       "______________________________________________________________________\n",
       "Linear               [64, 1024]           1,049,600  True      \n",
       "______________________________________________________________________\n",
       "Linear               [64, 1024]           1,049,600  True      \n",
       "______________________________________________________________________\n",
       "Linear               [64, 1024]           1,049,600  True      \n",
       "______________________________________________________________________\n",
       "Dropout              [16, 64, 64]         0          False     \n",
       "______________________________________________________________________\n",
       "Linear               [64, 1024]           1,049,600  True      \n",
       "______________________________________________________________________\n",
       "LayerNorm            [64, 1024]           2,048      True      \n",
       "______________________________________________________________________\n",
       "Dropout              [64, 1024]           0          False     \n",
       "______________________________________________________________________\n",
       "Linear               [64, 4096]           4,198,400  True      \n",
       "______________________________________________________________________\n",
       "Linear               [64, 1024]           4,195,328  True      \n",
       "______________________________________________________________________\n",
       "LayerNorm            [64, 1024]           2,048      True      \n",
       "______________________________________________________________________\n",
       "Dropout              [64, 1024]           0          False     \n",
       "______________________________________________________________________\n",
       "Linear               [64, 1024]           1,049,600  True      \n",
       "______________________________________________________________________\n",
       "Linear               [64, 1024]           1,049,600  True      \n",
       "______________________________________________________________________\n",
       "Linear               [64, 1024]           1,049,600  True      \n",
       "______________________________________________________________________\n",
       "Dropout              [16, 64, 64]         0          False     \n",
       "______________________________________________________________________\n",
       "Linear               [64, 1024]           1,049,600  True      \n",
       "______________________________________________________________________\n",
       "LayerNorm            [64, 1024]           2,048      True      \n",
       "______________________________________________________________________\n",
       "Dropout              [64, 1024]           0          False     \n",
       "______________________________________________________________________\n",
       "Linear               [64, 4096]           4,198,400  True      \n",
       "______________________________________________________________________\n",
       "Linear               [64, 1024]           4,195,328  True      \n",
       "______________________________________________________________________\n",
       "LayerNorm            [64, 1024]           2,048      True      \n",
       "______________________________________________________________________\n",
       "Dropout              [64, 1024]           0          False     \n",
       "______________________________________________________________________\n",
       "Linear               [1024]               1,049,600  True      \n",
       "______________________________________________________________________\n",
       "Tanh                 [1024]               0          False     \n",
       "______________________________________________________________________\n",
       "Dropout              [1024]               0          False     \n",
       "______________________________________________________________________\n",
       "Linear               [4]                  4,100      True      \n",
       "______________________________________________________________________\n",
       "\n",
       "Total params: 335,145,988\n",
       "Total trainable params: 335,145,988\n",
       "Total non-trainable params: 0\n",
       "Optimized with 'transformers.optimization.AdamW', correct_bias=False\n",
       "Using true weight decay as discussed in https://www.fast.ai/2018/07/02/adam-weight-decay/ \n",
       "Loss function : function\n",
       "======================================================================\n",
       "Callbacks functions applied \n",
       "    ShowGraph\n",
       "    MixedPrecision"
      ]
     },
     "execution_count": 23,
     "metadata": {},
     "output_type": "execute_result"
    }
   ],
   "source": [
    "learner.summary()"
   ]
  },
  {
   "cell_type": "code",
   "execution_count": 24,
   "metadata": {},
   "outputs": [],
   "source": [
    "learner.save('untrain')"
   ]
  },
  {
   "cell_type": "code",
   "execution_count": 25,
   "metadata": {},
   "outputs": [],
   "source": [
    "seed_all() # make sure we have same seeds when rerunning\n",
    "learner.load('untrain');"
   ]
  },
  {
   "cell_type": "code",
   "execution_count": 26,
   "metadata": {},
   "outputs": [],
   "source": [
    "# With other examples of fast.ai combined with Bert models \n",
    "# we saw people trying to use the fast.ai version what is \n",
    "# also used in training ulmfit \n",
    "# Namely unfreezing the model layer-by-layer \n",
    "# One has to keep in mind that this is a good practice \n",
    "# for ulmfit but not for Bert models \n",
    "# When fine tuning ulmfit there is a first phase of fine-tuning \n",
    "# the models langauge model to adapt to the specific language in \n",
    "# the training data \n",
    "# Then a fine-tuning in classification takes place\n",
    "# With bert the fine-tuning of the language and classification \n",
    "# takes place simultane\n",
    "learner.unfreeze()"
   ]
  },
  {
   "cell_type": "code",
   "execution_count": 28,
   "metadata": {},
   "outputs": [
    {
     "data": {
      "text/html": [],
      "text/plain": [
       "<IPython.core.display.HTML object>"
      ]
     },
     "metadata": {},
     "output_type": "display_data"
    },
    {
     "name": "stdout",
     "output_type": "stream",
     "text": [
      "LR Finder is complete, type {learner_name}.recorder.plot() to see the graph.\n",
      "Min numerical gradient: 2.29E-04\n",
      "Min loss divided by 10: 1.32E-03\n"
     ]
    },
    {
     "data": {
      "image/png": "[encoded data removed]",
      "text/plain": [
       "<Figure size 432x288 with 1 Axes>"
      ]
     },
     "metadata": {
      "needs_background": "light"
     },
     "output_type": "display_data"
    }
   ],
   "source": [
    "learner.lr_find()\n",
    "learner.recorder.plot(suggestion=True)"
   ]
  },
  {
   "cell_type": "code",
   "execution_count": 29,
   "metadata": {},
   "outputs": [
    {
     "data": {
      "text/html": [
       "<table border=\"1\" class=\"dataframe\">\n",
       "  <thead>\n",
       "    <tr style=\"text-align: left;\">\n",
       "      <th>epoch</th>\n",
       "      <th>train_loss</th>\n",
       "      <th>valid_loss</th>\n",
       "      <th>accuracy</th>\n",
       "      <th>f1_micro</th>\n",
       "      <th>time</th>\n",
       "    </tr>\n",
       "  </thead>\n",
       "  <tbody>\n",
       "    <tr>\n",
       "      <td>0</td>\n",
       "      <td>0.209308</td>\n",
       "      <td>0.205090</td>\n",
       "      <td>0.923049</td>\n",
       "      <td>0.747452</td>\n",
       "      <td>05:43</td>\n",
       "    </tr>\n",
       "    <tr>\n",
       "      <td>1</td>\n",
       "      <td>0.147107</td>\n",
       "      <td>0.233982</td>\n",
       "      <td>0.924501</td>\n",
       "      <td>0.758545</td>\n",
       "      <td>05:43</td>\n",
       "    </tr>\n",
       "  </tbody>\n",
       "</table>"
      ],
      "text/plain": [
       "<IPython.core.display.HTML object>"
      ]
     },
     "metadata": {},
     "output_type": "display_data"
    },
    {
     "data": {
      "image/png": "[encoded data removed]",
      "text/plain": [
       "<Figure size 432x288 with 1 Axes>"
      ]
     },
     "metadata": {},
     "output_type": "display_data"
    }
   ],
   "source": [
    "# -- results of manual hyperparameter search --\n",
    "\n",
    "# Note that in this challenge it was allowed to validate\n",
    "# on the test data in the last phase of the challenge\n",
    "# as the data is really messy one has to be extra cautious\n",
    "\n",
    "# ---------------------------------------------\n",
    "\n",
    "# f1_micro_test 74.8% - (2, 1e-04, (0.9,0.8)) - overfitting on train dataset\n",
    "# f1_micro_test 75.14% - (2, 1e-04, (0.8,0.7))\n",
    "# f1_micro_test 75.21% - (3, 1e-04, (0.8,0.7))\n",
    "# f1_micro_test 75.3% - (2, 1.25e-04, (0.85,0.75))\n",
    "# f1_micro_test 75.5% - (2, 1.1e-04, (0.85,0.75))\n",
    "# f1_micro_test 75.6% - (3, 1.1e-04, (0.85,0.75))\n",
    "# f1_micro_test 75.67% - (2, 0.94e-05, (0.85,0.75))\n",
    "# f1_micro_test 75.9% (val: 76.52%) - (2, 0.8e-04, (0.85,0.75))\n",
    "# f1_micro_test 76.01% - (2, 1e-04, (0.85,0.75))\n",
    "# f1_micro_test 76.21% - (2, 0.98e-04, (0.85,0.75)), (2, 0.95e-04, (0.85,0.75))\n",
    "\n",
    "# ---------------------------------------------\n",
    "\n",
    "\n",
    "learner.fit_one_cycle(2, max_lr=1e-04, moms=(0.85,0.75))"
   ]
  },
  {
   "cell_type": "code",
   "execution_count": 30,
   "metadata": {},
   "outputs": [
    {
     "data": {
      "text/html": [],
      "text/plain": [
       "<IPython.core.display.HTML object>"
      ]
     },
     "metadata": {},
     "output_type": "display_data"
    },
    {
     "data": {
      "text/plain": [
       "[0.23397401, tensor(0.9245), array(0.758545, dtype=float32)]"
      ]
     },
     "execution_count": 30,
     "metadata": {},
     "output_type": "execute_result"
    }
   ],
   "source": [
    "# validation on the dev dataset\n",
    "learner.validate(databunch.valid_dl)"
   ]
  },
  {
   "cell_type": "code",
   "execution_count": 31,
   "metadata": {},
   "outputs": [
    {
     "data": {
      "text/html": [],
      "text/plain": [
       "<IPython.core.display.HTML object>"
      ]
     },
     "metadata": {},
     "output_type": "display_data"
    },
    {
     "data": {
      "text/plain": [
       "[0.23983945, tensor(0.9225), array(0.749302, dtype=float32)]"
      ]
     },
     "execution_count": 31,
     "metadata": {},
     "output_type": "execute_result"
    }
   ],
   "source": [
    "# validation on the test dataset\n",
    "learner.validate(test_dl)"
   ]
  },
  {
   "cell_type": "markdown",
   "metadata": {},
   "source": [
    "## Conclusion\n",
    "\n",
    "We reached scores ranking in the top 3% for the challenge, by just using simple Bert and one cycle learning. With the customization work it is now possible to try out multiple new techniques of fast.ai to get even better scores.\n",
    "\n",
    "Just to name a few: Discriminative Fine-tuning, Gradual unfreezing, LabelSmoothing, MixUp, …"
   ]
  },
  {
   "cell_type": "code",
   "execution_count": 1,
   "metadata": {},
   "outputs": [
    {
     "name": "stdout",
     "output_type": "stream",
     "text": [
      "Converted 00_fastbert.ipynb.\n",
      "Converted 01_task3.ipynb.\n",
      "Converted index.ipynb.\n"
     ]
    }
   ],
   "source": [
    "from nbdev.export import *\n",
    "notebook2script()"
   ]
  },
  {
   "cell_type": "code",
   "execution_count": null,
   "metadata": {},
   "outputs": [],
   "source": []
  }
 ],
 "metadata": {
  "kernelspec": {
   "display_name": "consult",
   "language": "python",
   "name": "consult"
  },
  "language_info": {
   "codemirror_mode": {
    "name": "ipython",
    "version": 3
   },
   "file_extension": ".py",
   "mimetype": "text/x-python",
   "name": "python",
   "nbconvert_exporter": "python",
   "pygments_lexer": "ipython3",
   "version": "3.7.5"
  }
 },
 "nbformat": 4,
 "nbformat_minor": 2
}
