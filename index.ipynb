{
 "cells": [
  {
   "cell_type": "code",
   "execution_count": 1,
   "metadata": {},
   "outputs": [
    {
     "ename": "ModuleNotFoundError",
     "evalue": "No module named 'semeval2019_task3.core'",
     "output_type": "error",
     "traceback": [
      "\u001b[0;31m---------------------------------------------------------------------------\u001b[0m",
      "\u001b[0;31mModuleNotFoundError\u001b[0m                       Traceback (most recent call last)",
      "\u001b[0;32m<ipython-input-1-ed03f5fa2d29>\u001b[0m in \u001b[0;36m<module>\u001b[0;34m\u001b[0m\n\u001b[1;32m      1\u001b[0m \u001b[0;31m#hide\u001b[0m\u001b[0;34m\u001b[0m\u001b[0;34m\u001b[0m\u001b[0;34m\u001b[0m\u001b[0m\n\u001b[0;32m----> 2\u001b[0;31m \u001b[0;32mfrom\u001b[0m \u001b[0msemeval2019_task3\u001b[0m\u001b[0;34m.\u001b[0m\u001b[0mcore\u001b[0m \u001b[0;32mimport\u001b[0m \u001b[0;34m*\u001b[0m\u001b[0;34m\u001b[0m\u001b[0;34m\u001b[0m\u001b[0m\n\u001b[0m",
      "\u001b[0;31mModuleNotFoundError\u001b[0m: No module named 'semeval2019_task3.core'"
     ]
    }
   ],
   "source": [
    "#hide\n",
    "from semeval2019_task3.core import *"
   ]
  },
  {
   "cell_type": "markdown",
   "metadata": {},
   "source": [
    "# Contextual Emotion Detection in Text (FastBert) \n",
    "\n",
    "> We use the excellent combination of Huggingface transformers and fast.ai with \n",
    "nbdev libraries for a clean and efficient implementation and demonstrate the performance of our model on the SemEval-2019 Task 3 dataset."
   ]
  },
  {
   "cell_type": "markdown",
   "metadata": {},
   "source": [
    "![FastBert.jpg](./data/fastbert.jpg)\n",
    "\n",
    "[SemEval-2019 Task 3](https://www.aclweb.org/anthology/S19-2005.pdf) description: \n",
    "\n",
    "\"Lack of facial expressions and voice modulations make detecting emotions in text a challenging problem. For instance, as humans, on reading \"Why don't you ever text me!\" we can either interpret it as a sad or angry emotion and the same ambiguity exists for machines. However, the context of dialogue can prove helpful in detection of the emotion. In this task, given a textual dialogue i.e. an utterance along with two previous turns of context, the goal was to infer the underlying emotion of the utterance by choosing from four emotion classes - Happy, Sad, Angry and Others. To facilitate the participation in this task, textual dialogues from user interaction with a conversational agent were taken and annotated for emotion classes after several data processing steps.\""
   ]
  },
  {
   "cell_type": "markdown",
   "metadata": {},
   "source": [
    "This file will become your README and also the index of your documentation."
   ]
  },
  {
   "cell_type": "markdown",
   "metadata": {},
   "source": [
    "### Install"
   ]
  },
  {
   "cell_type": "markdown",
   "metadata": {},
   "source": [
    "Setting up the virtual environment first:\n",
    "\n",
    "`$ pip install virtualenv`\n",
    "\n",
    "`$ virtualenv venv`\n",
    "\n",
    "`$ source venv/bin/activate`\n",
    "\n",
    "`(venv) $ pip install ipykernel`\n",
    "\n",
    "`(venv) $ ipython kernel install --user --name=projectname`\n",
    "\n",
    "Then install github repository and requirements:\n",
    "\n",
    "`$ git clone https://github.com/PhilippMaxx/semeval2019_task3`\n",
    "\n",
    "`$ cd semeval2019_task3`\n",
    "\n",
    "`$ pip install requirements.txt`\n",
    "\n",
    "Then start jupyter notebook:\n",
    "\n",
    "`$ jupyter notebook`"
   ]
  },
  {
   "cell_type": "markdown",
   "metadata": {},
   "source": [
    "### How to use"
   ]
  },
  {
   "cell_type": "markdown",
   "metadata": {},
   "source": [
    "You can run everything inside of the notebooks.\n",
    "\n",
    "1. For customization work for fast.ai and Bert only open the notebook 00_fastbert.ipynb\n",
    "2. For the SemEval-2019 Task 3 work open the notebook 01_task3.ipynb"
   ]
  },
  {
   "cell_type": "markdown",
   "metadata": {},
   "source": [
    "### Documentation\n",
    "automatically created by nbdev: [Documentation](https://PhilippMaxx.github.io/semeval2019_task3/)"
   ]
  },
  {
   "cell_type": "markdown",
   "metadata": {},
   "source": [
    "### Notebooks\n",
    "\n",
    "Jupyter notebooks explaining the customizationand the task:\n",
    "* 00_fastbert.ipynb\n",
    "* 01_task3.ipynb"
   ]
  },
  {
   "cell_type": "code",
   "execution_count": null,
   "metadata": {},
   "outputs": [],
   "source": []
  }
 ],
 "metadata": {
  "kernelspec": {
   "display_name": "Python 3",
   "language": "python",
   "name": "python3"
  },
  "language_info": {
   "codemirror_mode": {
    "name": "ipython",
    "version": 3
   },
   "file_extension": ".py",
   "mimetype": "text/x-python",
   "name": "python",
   "nbconvert_exporter": "python",
   "pygments_lexer": "ipython3",
   "version": "3.7.5"
  }
 },
 "nbformat": 4,
 "nbformat_minor": 2
}
